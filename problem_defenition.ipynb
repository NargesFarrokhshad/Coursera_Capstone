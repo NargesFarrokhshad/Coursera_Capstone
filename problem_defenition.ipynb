{
  "nbformat": 4,
  "nbformat_minor": 0,
  "metadata": {
    "colab": {
      "name": "problem defenition.ipynb",
      "provenance": [],
      "authorship_tag": "ABX9TyM093ElfEfruj5+YtMuO/Y+",
      "include_colab_link": true
    },
    "kernelspec": {
      "name": "python3",
      "display_name": "Python 3"
    },
    "language_info": {
      "name": "python"
    }
  },
  "cells": [
    {
      "cell_type": "markdown",
      "metadata": {
        "id": "view-in-github",
        "colab_type": "text"
      },
      "source": [
        "<a href=\"https://colab.research.google.com/github/NargesFarrokhshad/Coursera_Capstone/blob/main/problem_defenition.ipynb\" target=\"_parent\"><img src=\"https://colab.research.google.com/assets/colab-badge.svg\" alt=\"Open In Colab\"/></a>"
      ]
    },
    {
      "cell_type": "markdown",
      "metadata": {
        "id": "7wWVkC7pFEwJ"
      },
      "source": [
        "# Capstone Project - The Battle of Neighborhoods (week4)"
      ]
    },
    {
      "cell_type": "markdown",
      "metadata": {
        "id": "nLeQUQOfGQL7"
      },
      "source": [
        "## Introduction\n"
      ]
    },
    {
      "cell_type": "markdown",
      "metadata": {
        "id": "f3eeg6IjGYQe"
      },
      "source": [
        "\n",
        "In this project we want to help people in exploring better facilities around their neighborhood. It will help people making right decision on selecting great neighborhood out of numbers of other neighborhoods in Scarborough, Toranto.\n",
        "\n",
        "Lots of people are migrating to various states of Canada and needed lots of research for good housing prices and reputated schools for their children. This project is for those people who are looking for better neighborhoods. For ease of accessing to Cafe, School, Super market, medical shops, grocery shops, mall, theatre, hospital, like minded people, etc.\n",
        "\n",
        "This Project aim to create an analysis of features for a people migrating to Scarborough to search a best neighborhood as a comparative analysis between neighborhoods. The features include median housing price and better school according to ratings, crime rates of that particular area, road connectivity, weather conditions, good management for emergency, water resources both freash and waste water and excrement conveyed in sewers and recreational facilities. \n",
        "\n",
        "It will help people to get awareness of the area and neighborhood before moving to a new city, state, country or place for their work or to start a new fresh life."
      ]
    },
    {
      "cell_type": "markdown",
      "metadata": {
        "id": "uCjrmSr4Gs1i"
      },
      "source": [
        "## Problem\n"
      ]
    },
    {
      "cell_type": "markdown",
      "metadata": {
        "id": "XG8n3kEFG8nx"
      },
      "source": [
        "The major purpose of this project, is to suggest a better neighborhood in a new city for the person who are shiffting there. Social presence in society in terms of like minded people. Connectivity to the airport, bus stand, city center, markets and other daily needs things nearby.\n",
        "\n",
        "1. Sorted list of house in terms of housing prices in a ascending or descending order\n",
        "2. Sorted list of schools in terms of location, fees, rating and reviews"
      ]
    },
    {
      "cell_type": "markdown",
      "metadata": {
        "id": "SgfBRZgRG9L8"
      },
      "source": [
        "## The Location\n",
        "\n"
      ]
    },
    {
      "cell_type": "markdown",
      "metadata": {
        "id": "d0eKwxI8HG5S"
      },
      "source": [
        "Scarborough is a popular destination for new immigrants in Canada to reside. As a result, it is one of the most diverse and multicultural areas in the Greater Toronto Area, being home to various religious groups and places of worship. Although immigration has become a hot topic over the past few years with more governments seeking more restrictions on immigrants and refugees, the general trend of immigration into Canada has been one of on the rise."
      ]
    },
    {
      "cell_type": "markdown",
      "metadata": {
        "id": "SHN4WTQvHSIF"
      },
      "source": [
        "## Foursquare API"
      ]
    },
    {
      "cell_type": "markdown",
      "metadata": {
        "id": "jAIorfXRHVMv"
      },
      "source": [
        "This project would use Four-square API as its prime data gathering source as it has a database of millions of places, especially their places API which provides the ability to perform location search, location sharing and details about a business."
      ]
    },
    {
      "cell_type": "markdown",
      "metadata": {
        "id": "gtYHR-hlHYP9"
      },
      "source": [
        "## Work Flow"
      ]
    },
    {
      "cell_type": "markdown",
      "metadata": {
        "id": "ANwFUoIvHats"
      },
      "source": [
        "Using credentials of Foursquare API features of near-by places of the neighborhoods would be mined. Due to http request limitations the number of places per neighborhood parameter would reasonably be set to 100 and the radius parameter would be set to 500."
      ]
    },
    {
      "cell_type": "markdown",
      "metadata": {
        "id": "D9xNE10yHdZu"
      },
      "source": [
        "## Clustering Approach"
      ]
    },
    {
      "cell_type": "markdown",
      "metadata": {
        "id": "Vol_DYaNHgOn"
      },
      "source": [
        "To compare the similarities of two cities, we decided to explore neighborhoods, segment them, and group them into clusters to find similar neighborhoods in a big city like New York and Toronto. To be able to do that, we need to cluster data which is a form of unsupervised machine learning: k-means clustering algorithm"
      ]
    },
    {
      "cell_type": "markdown",
      "metadata": {
        "id": "PzqOWxpGHhEa"
      },
      "source": [
        "## Libraries Which are Used to Develope the Project"
      ]
    },
    {
      "cell_type": "markdown",
      "metadata": {
        "id": "s0tHM3SjHlX8"
      },
      "source": [
        "Pandas: For creating and manipulating dataframes.\n",
        "\n",
        "Folium: Python visualization library would be used to visualize the neighborhoods cluster distribution of using interactive leaflet map.\n",
        "\n",
        "Scikit Learn: For importing k-means clustering.\n",
        "\n",
        "JSON: Library to handle JSON files.\n",
        "\n",
        "XML: To separate data from presentation and XML stores data in plain text format.\n",
        "\n",
        "Geocoder: To retrieve Location Data.\n",
        "\n",
        "Beautiful Soup and Requests: To scrap and library to handle http requests.\n",
        "\n",
        "Matplotlib: Python Plotting Module."
      ]
    }
  ]
}